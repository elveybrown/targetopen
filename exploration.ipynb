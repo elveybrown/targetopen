{
 "cells": [
  {
   "cell_type": "code",
   "execution_count": 1,
   "metadata": {},
   "outputs": [],
   "source": [
    "import os\n",
    "import sys\n",
    "from importlib import reload\n",
    "\n",
    "import external as ext"
   ]
  },
  {
   "cell_type": "code",
   "execution_count": 2,
   "metadata": {},
   "outputs": [
    {
     "data": {
      "text/plain": [
       "<module 'external' from '/Users/jeanmicheldaignan/Projects/Sideprojects/Others/Personal/Github/crossfit_webscraping/external.py'>"
      ]
     },
     "execution_count": 2,
     "metadata": {},
     "output_type": "execute_result"
    }
   ],
   "source": [
    "reload(ext)"
   ]
  },
  {
   "cell_type": "markdown",
   "metadata": {},
   "source": [
    "# Test the leaderboard data collection"
   ]
  },
  {
   "cell_type": "code",
   "execution_count": 3,
   "metadata": {},
   "outputs": [],
   "source": [
    "year=2018\n",
    "division=1\n",
    "scaled=0\n",
    "page=1\n",
    "\n",
    "# Get the data from the leaderboard\n",
    "data_collected=ext.get_leaderboarddetails(year,division,scaled,page)"
   ]
  },
  {
   "cell_type": "code",
   "execution_count": 4,
   "metadata": {},
   "outputs": [
    {
     "name": "stdout",
     "output_type": "stream",
     "text": [
      "0 {'entrant': {'competitorId': '153604', 'competitorName': 'Mathew Fraser', 'firstName': 'Mathew', 'lastName': 'Fraser', 'status': 'ACT', 'postCompStatus': 'accepted', 'gender': 'M', 'profilePicS3key': '9e218-P153604_4-184.jpg', 'countryShortCode': '', 'regionalCode': '3', 'regionId': '6', 'regionName': 'Central East', 'divisionId': '1', 'profession': '0', 'affiliateId': '3220', 'affiliateName': 'CrossFit Mayhem', 'age': '28', 'height': '67 in', 'weight': '190 lb', 'teamCaptain': '0'}, 'ui': {'highlight': False}, 'scores': [{'ordinal': 1, 'rank': '4', 'score': '14760000', 'scoreDisplay': '476 reps', 'mobileScoreDisplay': '', 'scoreIdentifier': '7db296c93cdcd76984d0', 'scaled': '0', 'video': '0', 'breakdown': '14 rounds +\\n8 toes-to-bars\\n10 clean & jerks\\n10 calories', 'judge': 'Anthony Jay Wilkerson', 'affiliate': 'CrossFit Mayhem', 'heat': '', 'lane': ''}, {'ordinal': 2, 'rank': '49', 'score': '11100478', 'scoreDisplay': '4:02', 'mobileScoreDisplay': '', 'scoreIdentifier': '1d74d1f4354623081c9b', 'scaled': '0', 'video': '0', 'time': 242, 'breakdown': '110 reps\\n380 lb.', 'judge': \"Matt O'Keefe\", 'affiliate': 'CrossFit Columbus', 'heat': '', 'lane': ''}, {'ordinal': 3, 'rank': '21', 'score': '13800478', 'scoreDisplay': '380 lb', 'mobileScoreDisplay': '', 'scoreIdentifier': 'afbbb6f5b45f455dcff0', 'scaled': '0', 'video': '0', 'breakdown': '380 lb.', 'time': 242, 'judge': \"Matt O'Keefe\", 'affiliate': 'CrossFit Columbus', 'heat': '', 'lane': ''}, {'ordinal': 4, 'rank': '17', 'score': '19160001', 'scoreDisplay': '916 reps', 'mobileScoreDisplay': '', 'scoreIdentifier': 'f2684dc0303098b9910e', 'scaled': '0', 'video': '0', 'time': 839, 'breakdown': '1 round +\\n100 double-unders\\n20 overhead squats\\n100 double-unders\\n12 ring muscle-ups\\n100 double-unders\\n20 snatches\\n100 double-unders', 'judge': 'Darren Hunsucker', 'affiliate': 'CrossFit Mayhem', 'heat': '', 'lane': ''}, {'ordinal': 5, 'rank': '5', 'score': '11650141', 'scoreDisplay': '6:39', 'mobileScoreDisplay': '', 'scoreIdentifier': 'dd5db69df61f61688062', 'scaled': '0', 'video': '0', 'time': 399, 'breakdown': '165 reps', 'judge': 'Angelo Dicicco', 'affiliate': 'CrossFit Mayhem', 'heat': '', 'lane': ''}, {'ordinal': 6, 'rank': '1', 'score': '11980000', 'scoreDisplay': '198 reps', 'mobileScoreDisplay': '', 'scoreIdentifier': '5cfc2044268b98cafe01', 'scaled': '0', 'video': '0', 'breakdown': '3 thr. 3 PU \\n6 thr. 6 PU \\n9 thr. 9 PU \\n12 thr. 12 PU \\n15 thr. 15 PU \\n18 thr. 18 PU \\n21 thr. 21 PU \\n24 thr. 6 PU', 'judge': 'Lindy Barber', 'affiliate': 'CrossFit Mayhem', 'heat': '', 'lane': ''}], 'overallRank': '1', 'overallScore': '97', 'nextStage': ''}\n",
      "1 {'entrant': {'competitorId': '180541', 'competitorName': 'Alex Vigneault', 'firstName': 'Alex', 'lastName': 'Vigneault', 'status': 'ACT', 'postCompStatus': 'accepted', 'gender': 'M', 'profilePicS3key': 'ebe1c-P180541_4-184.jpg', 'countryShortCode': '', 'regionalCode': '0', 'regionId': '18', 'regionName': 'Canada East', 'divisionId': '1', 'profession': '0', 'affiliateId': '10990', 'affiliateName': 'CrossFit Quebec City', 'age': '26', 'height': '71 in', 'weight': '208 lb', 'teamCaptain': '0'}, 'ui': {'highlight': False}, 'scores': [{'ordinal': 1, 'rank': '11', 'score': '14720000', 'scoreDisplay': '472 reps', 'mobileScoreDisplay': '', 'scoreIdentifier': '46d85c9febc169945588', 'scaled': '0', 'video': '0', 'breakdown': '14 rounds +\\n8 toes-to-bars\\n10 clean & jerks\\n6 calories', 'judge': 'Alice Guérin', 'affiliate': 'CrossFit Quebec City', 'heat': '', 'lane': ''}, {'ordinal': 2, 'rank': '249', 'score': '11100462', 'scoreDisplay': '4:18', 'mobileScoreDisplay': '', 'scoreIdentifier': '0c1789e3dc8c0b22d7e5', 'scaled': '0', 'video': '0', 'time': 258, 'breakdown': '110 reps\\n382 lb.', 'judge': 'Alice Guérin', 'affiliate': 'CrossFit Quebec City', 'heat': '', 'lane': ''}, {'ordinal': 3, 'rank': '17', 'score': '13820462', 'scoreDisplay': '382 lb', 'mobileScoreDisplay': '', 'scoreIdentifier': '3f040933617ace6a981d', 'scaled': '0', 'video': '0', 'breakdown': '382 lb.', 'time': 258, 'judge': 'Alice Guérin', 'affiliate': 'CrossFit Quebec City', 'heat': '', 'lane': ''}, {'ordinal': 4, 'rank': '109', 'score': '18160043', 'scoreDisplay': '816 reps', 'mobileScoreDisplay': '', 'scoreIdentifier': '0357d6e44a3469b5244d', 'scaled': '0', 'video': '0', 'time': 797, 'breakdown': '1 round +\\n100 double-unders\\n20 overhead squats\\n100 double-unders\\n12 ring muscle-ups\\n100 double-unders\\n20 snatches', 'judge': 'Alice Guérin', 'affiliate': 'CrossFit Quebec City', 'heat': '', 'lane': ''}, {'ordinal': 5, 'rank': '7', 'score': '11650132', 'scoreDisplay': '6:48', 'mobileScoreDisplay': '', 'scoreIdentifier': '1a5ebfe71587fdb680d6', 'scaled': '0', 'video': '0', 'time': 408, 'breakdown': '165 reps', 'judge': 'Alice Guérin', 'affiliate': 'CrossFit Quebec City', 'heat': '', 'lane': ''}, {'ordinal': 6, 'rank': '46', 'score': '11790000', 'scoreDisplay': '179 reps', 'mobileScoreDisplay': '', 'scoreIdentifier': 'cbfcea95054f8266f064', 'scaled': '0', 'video': '0', 'breakdown': '3 thr. 3 PU \\n6 thr. 6 PU \\n9 thr. 9 PU \\n12 thr. 12 PU \\n15 thr. 15 PU \\n18 thr. 18 PU \\n21 thr. 21 PU \\n11 thr.', 'judge': 'Benjamin Hebert', 'affiliate': 'CrossFit Quebec City', 'heat': '', 'lane': ''}], 'overallRank': '2', 'overallScore': '439', 'nextStage': ''}\n",
      "2 {'entrant': {'competitorId': '702092', 'competitorName': 'Willy Georges', 'firstName': 'Willy', 'lastName': 'Georges', 'status': 'ACT', 'postCompStatus': 'accepted', 'gender': 'M', 'profilePicS3key': '9ca60-P702092_3-184.jpg', 'countryShortCode': '', 'regionalCode': '0', 'regionId': '24', 'regionName': 'Europe South', 'divisionId': '1', 'profession': '0', 'affiliateId': '16786', 'affiliateName': 'CrossFit DBS 83', 'age': '25', 'height': '179 cm', 'weight': '86 kg', 'teamCaptain': '0'}, 'ui': {'highlight': False}, 'scores': [{'ordinal': 1, 'rank': '43', 'score': '14600000', 'scoreDisplay': '460 reps', 'mobileScoreDisplay': '', 'scoreIdentifier': '02de0850847a45a53da0', 'scaled': '0', 'video': '0', 'breakdown': '14 rounds +\\n8 toes-to-bars\\n4 clean & jerks', 'judge': 'Anthony De Giacinto', 'affiliate': 'CrossFit DBS 83', 'heat': '', 'lane': ''}, {'ordinal': 2, 'rank': '223', 'score': '11100463', 'scoreDisplay': '4:17', 'mobileScoreDisplay': '', 'scoreIdentifier': '6531a26c1a1114dce4cf', 'scaled': '0', 'video': '0', 'time': 257, 'breakdown': '110 reps\\n364 lb.', 'judge': 'Mylene Jankovits', 'affiliate': 'CrossFit DBS 83', 'heat': '', 'lane': ''}, {'ordinal': 3, 'rank': '122', 'score': '13640463', 'scoreDisplay': '364 lb', 'mobileScoreDisplay': '', 'scoreIdentifier': '851ac9840f3a3cc68473', 'scaled': '0', 'video': '0', 'breakdown': '364 lb.', 'time': 257, 'judge': 'Mylene Jankovits', 'affiliate': 'CrossFit DBS 83', 'heat': '', 'lane': ''}, {'ordinal': 4, 'rank': '38', 'score': '18760078', 'scoreDisplay': '876 reps', 'mobileScoreDisplay': '', 'scoreIdentifier': '0ec7db7cce1b1f76970f', 'scaled': '0', 'video': '0', 'time': 762, 'breakdown': '1 round +\\n100 double-unders\\n20 overhead squats\\n100 double-unders\\n12 ring muscle-ups\\n100 double-unders\\n20 snatches\\n60 double-unders', 'judge': 'Mylene Jankovits', 'affiliate': 'CrossFit DBS 83', 'heat': '', 'lane': ''}, {'ordinal': 5, 'rank': '165', 'score': '11650039', 'scoreDisplay': '8:21', 'mobileScoreDisplay': '', 'scoreIdentifier': '8ec0219024f749eb2724', 'scaled': '0', 'video': '0', 'time': 501, 'breakdown': '165 reps', 'judge': 'Mylene Jankovits', 'affiliate': 'CrossFit DBS 83', 'heat': '', 'lane': ''}, {'ordinal': 6, 'rank': '5', 'score': '11880000', 'scoreDisplay': '188 reps', 'mobileScoreDisplay': '', 'scoreIdentifier': 'b23cef1e3fa6c05da8e8', 'scaled': '0', 'video': '0', 'breakdown': '3 thr. 3 PU \\n6 thr. 6 PU \\n9 thr. 9 PU \\n12 thr. 12 PU \\n15 thr. 15 PU \\n18 thr. 18 PU \\n21 thr. 21 PU \\n20 thr.', 'judge': 'Mylene Jankovits', 'affiliate': 'CrossFit DBS 83', 'heat': '', 'lane': ''}], 'overallRank': '3', 'overallScore': '596', 'nextStage': ''}\n",
      "3 {'entrant': {'competitorId': '308712', 'competitorName': 'Jean-Simon Roy-Lemaire', 'firstName': 'Jean-Simon', 'lastName': 'Roy-Lemaire', 'status': 'ACT', 'postCompStatus': 'accepted', 'gender': 'M', 'profilePicS3key': '47f1f-P308712_3-184.jpg', 'countryShortCode': '', 'regionalCode': '0', 'regionId': '18', 'regionName': 'Canada East', 'divisionId': '1', 'profession': '1', 'affiliateId': '4459', 'affiliateName': 'Tonic CrossFit', 'age': '24', 'height': '176 cm', 'weight': '195 lb', 'teamCaptain': '0'}, 'ui': {'highlight': False}, 'scores': [{'ordinal': 1, 'rank': '18', 'score': '14680000', 'scoreDisplay': '468 reps', 'mobileScoreDisplay': '', 'scoreIdentifier': '133e96b36cdb1078a745', 'scaled': '0', 'video': '0', 'breakdown': '14 rounds +\\n8 toes-to-bars\\n10 clean & jerks\\n2 calories', 'judge': 'Mathieu Gravel', 'affiliate': 'Tonic CrossFit', 'heat': '', 'lane': ''}, {'ordinal': 2, 'rank': '26', 'score': '11100482', 'scoreDisplay': '3:58', 'mobileScoreDisplay': '', 'scoreIdentifier': '879d6a1792b85a0d3251', 'scaled': '0', 'video': '0', 'time': 238, 'breakdown': '110 reps\\n346 lb.', 'judge': 'Mathieu Gravel', 'affiliate': 'Tonic CrossFit', 'heat': '', 'lane': ''}, {'ordinal': 3, 'rank': '396', 'score': '13460482', 'scoreDisplay': '346 lb', 'mobileScoreDisplay': '', 'scoreIdentifier': 'e5a25d9c1e8d485ee2f2', 'scaled': '0', 'video': '0', 'breakdown': '346 lb.', 'time': 238, 'judge': 'Mathieu Gravel', 'affiliate': 'Tonic CrossFit', 'heat': '', 'lane': ''}, {'ordinal': 4, 'rank': '112', 'score': '18160040', 'scoreDisplay': '816 reps', 'mobileScoreDisplay': '', 'scoreIdentifier': '296e90c5eeafcc5cca48', 'scaled': '0', 'video': '0', 'time': 800, 'breakdown': '1 round +\\n100 double-unders\\n20 overhead squats\\n100 double-unders\\n12 ring muscle-ups\\n100 double-unders\\n20 snatches', 'judge': 'Mathieu Gravel', 'affiliate': 'Tonic CrossFit', 'heat': '', 'lane': ''}, {'ordinal': 5, 'rank': '75', 'score': '11650077', 'scoreDisplay': '7:43', 'mobileScoreDisplay': '', 'scoreIdentifier': '655fd6398d6e99197b16', 'scaled': '0', 'video': '0', 'time': 463, 'breakdown': '165 reps', 'judge': 'Mathieu Gravel', 'affiliate': 'Tonic CrossFit', 'heat': '', 'lane': ''}, {'ordinal': 6, 'rank': '54', 'score': '11780000', 'scoreDisplay': '178 reps', 'mobileScoreDisplay': '', 'scoreIdentifier': 'b07b2adccdb2a8cee143', 'scaled': '0', 'video': '0', 'breakdown': '3 thr. 3 PU \\n6 thr. 6 PU \\n9 thr. 9 PU \\n12 thr. 12 PU \\n15 thr. 15 PU \\n18 thr. 18 PU \\n21 thr. 21 PU \\n10 thr.', 'judge': 'Isabelle Chouinard', 'affiliate': 'Tonic CrossFit', 'heat': '', 'lane': ''}], 'overallRank': '4', 'overallScore': '681', 'nextStage': ''}\n",
      "4 {'entrant': {'competitorId': '158264', 'competitorName': 'Patrick Vellner', 'firstName': 'Patrick', 'lastName': 'Vellner', 'status': 'ACT', 'postCompStatus': 'accepted', 'gender': 'M', 'profilePicS3key': '9bfee-P158264_6-184.jpg', 'countryShortCode': '', 'regionalCode': '0', 'regionId': '18', 'regionName': 'Canada East', 'divisionId': '1', 'profession': '128', 'affiliateId': '6214', 'affiliateName': 'CrossFit Solid Ground', 'age': '28', 'height': '71 in', 'weight': '195 lb', 'teamCaptain': '0'}, 'ui': {'highlight': False}, 'scores': [{'ordinal': 1, 'rank': '4', 'score': '14760000', 'scoreDisplay': '476 reps', 'mobileScoreDisplay': '', 'scoreIdentifier': '015f0e819ca5ee359be3', 'scaled': '0', 'video': '0', 'breakdown': '14 rounds +\\n8 toes-to-bars\\n10 clean & jerks\\n10 calories', 'judge': 'Jonathan Mulder', 'affiliate': 'CrossFit Solid Ground', 'heat': '', 'lane': ''}, {'ordinal': 2, 'rank': '78', 'score': '11100474', 'scoreDisplay': '4:06', 'mobileScoreDisplay': '', 'scoreIdentifier': '898e7b76f4468dfd0eed', 'scaled': '0', 'video': '0', 'time': 246, 'breakdown': '110 reps\\n343 lb.', 'judge': 'Justin Tamane', 'affiliate': 'CrossFit Solid Ground', 'heat': '', 'lane': ''}, {'ordinal': 3, 'rank': '501', 'score': '13430474', 'scoreDisplay': '343 lb', 'mobileScoreDisplay': '', 'scoreIdentifier': 'f7f213128cf56ac0b2f9', 'scaled': '0', 'video': '0', 'breakdown': '343 lb.', 'time': 246, 'judge': 'Justin Tamane', 'affiliate': 'CrossFit Solid Ground', 'heat': '', 'lane': ''}, {'ordinal': 4, 'rank': '16', 'score': '19170005', 'scoreDisplay': '917 reps', 'mobileScoreDisplay': '', 'scoreIdentifier': '2e5be1768968ceecc850', 'scaled': '0', 'video': '0', 'time': 835, 'breakdown': '1 round +\\n100 double-unders\\n20 overhead squats\\n100 double-unders\\n12 ring muscle-ups\\n100 double-unders\\n20 snatches\\n100 double-unders\\n1 bar muscle-ups', 'judge': 'Justin Tamane', 'affiliate': 'CrossFit Solid Ground', 'heat': '', 'lane': ''}, {'ordinal': 5, 'rank': '9', 'score': '11650131', 'scoreDisplay': '6:49', 'mobileScoreDisplay': '', 'scoreIdentifier': 'a67d0860bcd542108b20', 'scaled': '0', 'video': '0', 'time': 409, 'breakdown': '165 reps', 'judge': 'Justin Tamane', 'affiliate': 'CrossFit Solid Ground', 'heat': '', 'lane': ''}, {'ordinal': 6, 'rank': '98', 'score': '11740000', 'scoreDisplay': '174 reps', 'mobileScoreDisplay': '', 'scoreIdentifier': '4a145b94c69022708def', 'scaled': '0', 'video': '0', 'breakdown': '3 thr. 3 PU \\n6 thr. 6 PU \\n9 thr. 9 PU \\n12 thr. 12 PU \\n15 thr. 15 PU \\n18 thr. 18 PU \\n21 thr. 21 PU \\n6 thr.', 'judge': 'Jonathan Mulder', 'affiliate': 'CrossFit Solid Ground', 'heat': '', 'lane': ''}], 'overallRank': '5', 'overallScore': '706', 'nextStage': ''}\n"
     ]
    }
   ],
   "source": [
    "for i,details in enumerate(data_collected['leaderboardRows'][:5]):\n",
    "    print(i,details)"
   ]
  },
  {
   "cell_type": "markdown",
   "metadata": {},
   "source": [
    "# Test the athlete page data collection"
   ]
  },
  {
   "cell_type": "code",
   "execution_count": 5,
   "metadata": {},
   "outputs": [
    {
     "data": {
      "text/plain": [
       "{'profile_picture_link': 'https://profilepicsbucket.crossfit.com/9e218-P153604_4-184.jpg',\n",
       " 'name': 'Mathew Fraser',\n",
       " 'region': 'CentralEast',\n",
       " 'division': 'Men',\n",
       " 'age': '28',\n",
       " 'height': '5\\'7\"',\n",
       " 'weight': '190lb',\n",
       " 'affiliate': 'CrossFitMayhem',\n",
       " 'team': 'CrossFitMayhemFreedom',\n",
       " 'bs_backsquat': '485lb',\n",
       " 'bs_cleanandjerk': '375lb',\n",
       " 'bs_snatch': '315lb',\n",
       " 'bs_deadlift': '500lb',\n",
       " 'bs_fightgonebad': '--',\n",
       " 'bs_maxpull-ups': '50',\n",
       " 'bs_fran': '2:07',\n",
       " 'bs_grace': '1:18',\n",
       " 'bs_helen': '--',\n",
       " 'bs_filthy50': '--',\n",
       " 'bs_sprint400m': '--',\n",
       " 'bs_run5k': '--'}"
      ]
     },
     "execution_count": 5,
     "metadata": {},
     "output_type": "execute_result"
    }
   ],
   "source": [
    "competitorid=153604\n",
    "ext.get_athletesdetails(competitorid)"
   ]
  },
  {
   "cell_type": "markdown",
   "metadata": {},
   "source": [
    "# Test the gym page data collection"
   ]
  },
  {
   "cell_type": "code",
   "execution_count": 6,
   "metadata": {},
   "outputs": [
    {
     "data": {
      "text/plain": [
       "{'country': 'united states',\n",
       " 'region': '--',\n",
       " 'location': ' 601 rich froning way  cookeville, tn, 38501 ',\n",
       " 'name': 'CrossFit Mayhem'}"
      ]
     },
     "execution_count": 6,
     "metadata": {},
     "output_type": "execute_result"
    }
   ],
   "source": [
    "affiliateid=3220\n",
    "ext.get_affiliatedetails(affiliateid)"
   ]
  },
  {
   "cell_type": "code",
   "execution_count": null,
   "metadata": {},
   "outputs": [],
   "source": []
  },
  {
   "cell_type": "code",
   "execution_count": null,
   "metadata": {},
   "outputs": [],
   "source": []
  },
  {
   "cell_type": "code",
   "execution_count": null,
   "metadata": {},
   "outputs": [],
   "source": []
  }
 ],
 "metadata": {
  "kernelspec": {
   "display_name": "Python 3",
   "language": "python",
   "name": "python3"
  },
  "language_info": {
   "codemirror_mode": {
    "name": "ipython",
    "version": 3
   },
   "file_extension": ".py",
   "mimetype": "text/x-python",
   "name": "python",
   "nbconvert_exporter": "python",
   "pygments_lexer": "ipython3",
   "version": "3.6.5"
  }
 },
 "nbformat": 4,
 "nbformat_minor": 2
}
